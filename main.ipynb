{
 "cells": [
  {
   "cell_type": "code",
   "execution_count": 1,
   "metadata": {},
   "outputs": [],
   "source": [
    "import os\n",
    "from my_freshdesk import MyFreshdesk\n",
    "\n",
    "domain = os.getenv('FRESHDESK_DOMAIN')\n",
    "api_key = os.getenv('FRESHDESK_API_KEY') \n",
    "\n",
    "my_freshdesk = MyFreshdesk(domain, api_key)"
   ]
  },
  {
   "cell_type": "code",
   "execution_count": null,
   "metadata": {},
   "outputs": [],
   "source": [
    "# Run this to get all published articles and store them as HTML\n",
    "all_articles = my_freshdesk.retrieve_articles_and_store_as_html()\n",
    "print('Total retrieved articles:', len(all_articles))\n",
    "\n",
    "# Copy all articles from data/old to data/new folder\n",
    "\n",
    "# Edit content of articles in new folder as needed"
   ]
  },
  {
   "cell_type": "code",
   "execution_count": null,
   "metadata": {},
   "outputs": [],
   "source": [
    "# Run this to get ids of all updated articles in new folder\n",
    "all_articles = my_freshdesk.get_all_updated_article_ids()\n",
    "print(\"Total updated articles: \", len(all_articles))\n",
    "print(all_articles)"
   ]
  },
  {
   "cell_type": "code",
   "execution_count": null,
   "metadata": {},
   "outputs": [],
   "source": [
    "# Update the articles with new content in freshdesk/new\n",
    "updated_ariticles_id = ['151000025668']\n",
    "my_freshdesk.update_articles_with_new_content(updated_ariticles_id)"
   ]
  }
 ],
 "metadata": {
  "kernelspec": {
   "display_name": "Python 3",
   "language": "python",
   "name": "python3"
  },
  "language_info": {
   "codemirror_mode": {
    "name": "ipython",
    "version": 3
   },
   "file_extension": ".py",
   "mimetype": "text/x-python",
   "name": "python",
   "nbconvert_exporter": "python",
   "pygments_lexer": "ipython3",
   "version": "3.11.9"
  }
 },
 "nbformat": 4,
 "nbformat_minor": 2
}
